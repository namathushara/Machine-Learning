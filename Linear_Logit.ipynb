{
 "cells": [
  {
   "cell_type": "code",
   "execution_count": 1,
   "metadata": {},
   "outputs": [
    {
     "name": "stdout",
     "output_type": "stream",
     "text": [
      "   Appliances    lights        T1      RH_1        T2      RH_2        T3  \\\n",
      "0   -0.367666  3.301180 -1.118616  1.843774 -0.520398  1.073656 -1.235032   \n",
      "1   -0.367666  3.301180 -1.118616  1.616766 -0.520398  1.057071 -1.235032   \n",
      "2   -0.465204  3.301180 -1.118616  1.517921 -0.520398  1.033523 -1.235032   \n",
      "3   -0.465204  4.561263 -1.118616  1.459284 -0.520398  1.024514 -1.235032   \n",
      "4   -0.367666  4.561263 -1.118616  1.526298 -0.520398  1.009771 -1.235032   \n",
      "\n",
      "       RH_3        T4      RH_4  ...        T9      RH_9     T_out  \\\n",
      "0  1.686087 -0.908194  1.506399  ... -1.217293  0.958112 -0.152643   \n",
      "1  1.704523 -0.908194  1.604488  ... -1.200748  0.965338 -0.174583   \n",
      "2  1.748563 -0.944091  1.580878  ... -1.233838  0.950886 -0.196524   \n",
      "3  1.769047 -0.962039  1.542487  ... -1.233838  0.926798 -0.218464   \n",
      "4  1.769047 -0.962039  1.497953  ... -1.233838  0.926798 -0.240405   \n",
      "\n",
      "   Press_mm_hg   RH_out  Windspeed  Visibility  Tdewpoint       rv1       rv2  \n",
      "0    -2.976252  0.82206   1.207663    2.091543   0.366966 -0.807953 -0.807953  \n",
      "1    -2.962738  0.82206   1.071676    1.766539   0.343126 -0.440229 -0.440229  \n",
      "2    -2.949223  0.82206   0.935690    1.441535   0.319286  0.252102  0.252102  \n",
      "3    -2.935709  0.82206   0.799703    1.116531   0.295446  1.408765  1.408765  \n",
      "4    -2.922194  0.82206   0.663716    0.791527   0.271606 -1.028096 -1.028096  \n",
      "\n",
      "[5 rows x 28 columns]\n"
     ]
    }
   ],
   "source": [
    "import pandas as pd\n",
    "import numpy as np\n",
    "from sklearn.model_selection import train_test_split\n",
    "from scipy.stats import norm\n",
    "\n",
    "data=pd.read_csv(\"energydata_complete.csv\")\n",
    "data=data.drop(['date'],axis=1)\n",
    "data=(data-data.mean())/data.std()#normalising\n",
    "print(data.head())"
   ]
  },
  {
   "cell_type": "code",
   "execution_count": 2,
   "metadata": {},
   "outputs": [
    {
     "data": {
      "text/plain": [
       "['Appliances',\n",
       " 'lights',\n",
       " 'T1',\n",
       " 'RH_1',\n",
       " 'T2',\n",
       " 'RH_2',\n",
       " 'T3',\n",
       " 'RH_3',\n",
       " 'T4',\n",
       " 'RH_4',\n",
       " 'T5',\n",
       " 'RH_5',\n",
       " 'T6',\n",
       " 'RH_6',\n",
       " 'T7',\n",
       " 'RH_7',\n",
       " 'T8',\n",
       " 'RH_8',\n",
       " 'T9',\n",
       " 'RH_9',\n",
       " 'T_out',\n",
       " 'Press_mm_hg',\n",
       " 'RH_out',\n",
       " 'Windspeed',\n",
       " 'Visibility',\n",
       " 'Tdewpoint',\n",
       " 'rv1',\n",
       " 'rv2']"
      ]
     },
     "execution_count": 2,
     "metadata": {},
     "output_type": "execute_result"
    }
   ],
   "source": [
    "colnames=data.columns.tolist()\n",
    "colnames"
   ]
  },
  {
   "cell_type": "code",
   "execution_count": 3,
   "metadata": {},
   "outputs": [
    {
     "data": {
      "text/plain": [
       "<matplotlib.axes._subplots.AxesSubplot at 0x20d4286d0b8>"
      ]
     },
     "execution_count": 3,
     "metadata": {},
     "output_type": "execute_result"
    }
   ],
   "source": [
    "import seaborn as sns\n",
    "corr=data.iloc[:,[1,22,23,24,25,26,27]].corr()\n",
    "\n",
    "sns.heatmap(corr)\n"
   ]
  },
  {
   "cell_type": "code",
   "execution_count": 4,
   "metadata": {},
   "outputs": [
    {
     "name": "stdout",
     "output_type": "stream",
     "text": [
      "(15788, 27) (15788,)\n",
      "(3947, 27) (3947,)\n"
     ]
    }
   ],
   "source": [
    "y=data.Appliances\n",
    "\n",
    "df=data.drop(['Appliances'],axis=1)\n",
    "X_train, X_test, y_train, y_test = train_test_split(df, y, test_size=0.2)\n",
    "print (X_train.shape, y_train.shape)\n",
    "print( X_test.shape, y_test.shape)"
   ]
  },
  {
   "cell_type": "code",
   "execution_count": 5,
   "metadata": {},
   "outputs": [
    {
     "name": "stdout",
     "output_type": "stream",
     "text": [
      "[[-0.47906764 -0.4274865  -1.22125517 ... -0.67006981 -1.53728417\n",
      "  -1.53728417]\n",
      " [ 0.78101498  0.74930226 -0.51761362 ...  0.30339292  1.33006582\n",
      "   1.33006582]\n",
      " [ 2.04109759  0.6870383  -2.07567706 ... -0.80118928  0.02236514\n",
      "   0.02236514]\n",
      " ...\n",
      " [-0.47906764  0.54798213 -0.22526731 ...  0.23584653  0.49307289\n",
      "   0.49307289]\n",
      " [-0.47906764  0.37571852 -0.1909229  ...  0.37491263  1.17569715\n",
      "   1.17569715]\n",
      " [-0.47906764  0.31968096  1.19123014 ...  1.78146695 -0.35953549\n",
      "  -0.35953549]] [-0.36766641 -0.56274099 -0.17259183 ... -0.27012912 -0.07505454\n",
      "  0.02248275]\n"
     ]
    }
   ],
   "source": [
    "print (X_train.values, y_train.values)"
   ]
  },
  {
   "cell_type": "markdown",
   "metadata": {},
   "source": [
    "linear regression"
   ]
  },
  {
   "cell_type": "code",
   "execution_count": 6,
   "metadata": {},
   "outputs": [],
   "source": [
    "class broom_model():\n",
    "    \n",
    "       \n",
    "    def __init__(self,xi:pd.core.frame.DataFrame,y:pd.core.series.Series):\n",
    "        \n",
    "        ones = pd.DataFrame({'(intercept)':np.ones((xi.shape[0],))},index=xi.index)\n",
    "        xi=pd.concat((ones,xi),1)\n",
    "        (self.x,self.y) = (xi,y)\n",
    "        x = self.x\n",
    "        (self.n,self.r) = x.shape\n",
    "        self.index = x.columns\n",
    "        self.params = np.linalg.lstsq(x.T@x,x.T@y)\n",
    "        self.params=self.params[0]\n",
    "        self.predict=pd.Series(self.x.values@self.params,index=x.index,name=self.y.name)\n",
    "        self.fitted=self.predict\n",
    "        self.resid=self.y-self.fitted\n",
    "    \n",
    "   \n",
    "    def vcov_params(self)->np.matrix:\n",
    "        e = self.resid\n",
    "        x = self.x\n",
    "        xxi = np.linalg.pinv(x.T@x)\n",
    "        return np.power(e,2).mean()*xxi\n",
    "    def se(self)->np.matrix: return np.sqrt(np.diagonal(self.vcov_params()))\n",
    "    def t_stat(self)->np.matrix: return self.params/self.se()\n",
    "    def p_val(self)->np.matrix: return norm.cdf(-np.abs(self.t_stat()))*2\n",
    "    def conf_int(self,level:float)->np.matrix: return None\n",
    "    def tidy(self,confint=False,level=0.95)->pd.core.frame.DataFrame: \n",
    "        df = [self.params,self.se(),self.t_stat(),self.p_val()]\n",
    "        df = np.vstack(df)\n",
    "        df = pd.DataFrame(df.T,index=self.index)\n",
    "        df.columns = ['est','std.err','t.stat','p.val']\n",
    "        return df\n",
    "    "
   ]
  },
  {
   "cell_type": "code",
   "execution_count": 7,
   "metadata": {},
   "outputs": [
    {
     "name": "stdout",
     "output_type": "stream",
     "text": [
      "                  est   std.err     t.stat          p.val\n",
      "(intercept) -0.000675  0.007289  -0.092565   9.262488e-01\n",
      "lights       0.154476  0.008271  18.676586   7.677499e-78\n",
      "T1           0.002665  0.032168   0.082857   9.339650e-01\n",
      "RH_1         0.614950  0.029032  21.181418   1.417022e-99\n",
      "T2          -0.369435  0.038915  -9.493425   2.235644e-21\n",
      "RH_2        -0.537831  0.034088 -15.777910   4.415693e-56\n",
      "T3           0.499719  0.023064  21.666793  4.221521e-104\n",
      "RH_3         0.113587  0.024136   4.706082   2.525231e-06\n",
      "T4          -0.074029  0.022890  -3.234099   1.220272e-03\n",
      "RH_4        -0.013673  0.030154  -0.453435   6.502358e-01\n",
      "T5          -0.011008  0.023552  -0.467392   6.402197e-01\n",
      "RH_5         0.013634  0.008581   1.588882   1.120870e-01\n",
      "T6           0.409089  0.042136   9.708828   2.764969e-22\n",
      "RH_6         0.093070  0.023007   4.045274   5.226201e-05\n",
      "T7           0.045674  0.030624   1.491457   1.358416e-01\n",
      "RH_7        -0.069540  0.024047  -2.891830   3.830056e-03\n",
      "T8           0.143958  0.020660   6.967982   3.215203e-12\n",
      "RH_8        -0.234856  0.021188 -11.084281   1.495462e-28\n",
      "T9          -0.311039  0.038691  -8.039072   9.052136e-16\n",
      "RH_9        -0.024348  0.018582  -1.310318   1.900882e-01\n",
      "T_out       -0.475864  0.088718  -5.363764   8.150545e-08\n",
      "Press_mm_hg  0.009867  0.008624   1.144063   2.525975e-01\n",
      "RH_out      -0.128520  0.051273  -2.506601   1.218984e-02\n",
      "Windspeed    0.039309  0.009231   4.258521   2.057841e-05\n",
      "Visibility   0.018106  0.007479   2.421085   1.547425e-02\n",
      "Tdewpoint    0.166026  0.067809   2.448436   1.434778e-02\n",
      "rv1         -0.008315  0.003642  -2.282808   2.244169e-02\n",
      "rv2         -0.008315  0.003642  -2.282808   2.244169e-02\n"
     ]
    },
    {
     "name": "stderr",
     "output_type": "stream",
     "text": [
      "C:\\Users\\rahul\\Anaconda3\\lib\\site-packages\\ipykernel_launcher.py:12: FutureWarning: `rcond` parameter will change to the default of machine precision times ``max(M, N)`` where M and N are the input matrix dimensions.\n",
      "To use the future default and silence this warning we advise to pass `rcond=None`, to keep using the old, explicitly pass `rcond=-1`.\n",
      "  if sys.path[0] == '':\n"
     ]
    }
   ],
   "source": [
    "\n",
    "model=broom_model(X_train,y_train)\n",
    "print(model.tidy())\n"
   ]
  },
  {
   "cell_type": "markdown",
   "metadata": {},
   "source": [
    "Gradient descent"
   ]
  },
  {
   "cell_type": "code",
   "execution_count": 8,
   "metadata": {
    "scrolled": false
   },
   "outputs": [
    {
     "name": "stdout",
     "output_type": "stream",
     "text": [
      "alpha 0.001, threshold 0.001, iteration 1000, train error 0.44395397968757727 \n",
      "The test error is 0    0.858128\n",
      "dtype: float64\n",
      "alpha 0.005, threshold 0.001, iteration 1000, train error 0.17156680168097385 \n",
      "The test error is 0    0.57569\n",
      "dtype: float64\n",
      "alpha 0.01, threshold 0.001, iteration 1000, train error 0.11742185885655393 \n",
      "The test error is 0    0.517298\n",
      "dtype: float64\n",
      "alpha 0.05, threshold 0.001, iteration 1000, train error 0.06727441341548593 \n",
      "The test error is 0    0.457296\n",
      "dtype: float64\n",
      "alpha 0.1, threshold 0.001, iteration 1000, train error 0.06027142705767498 \n",
      "The test error is 0    0.445754\n",
      "dtype: float64\n"
     ]
    },
    {
     "data": {
      "image/png": "[encoded data removed]",
      "text/plain": [
       "<Figure size 432x288 with 1 Axes>"
      ]
     },
     "metadata": {
      "needs_background": "light"
     },
     "output_type": "display_data"
    },
    {
     "data": {
      "image/png": "[encoded data removed]",
      "text/plain": [
       "<Figure size 432x288 with 1 Axes>"
      ]
     },
     "metadata": {
      "needs_background": "light"
     },
     "output_type": "display_data"
    },
    {
     "name": "stdout",
     "output_type": "stream",
     "text": [
      "alpha 0.1, threshold 1e-06, iteration 1000, train error 0.05689707623619787 \n",
      "The test error is 0    0.434424\n",
      "dtype: float64\n",
      "alpha 0.1, threshold 1e-05, iteration 1000, train error 0.05689707623619787 \n",
      "The test error is 0    0.434424\n",
      "dtype: float64\n",
      "alpha 0.1, threshold 0.0001, iteration 1000, train error 0.05692649732977088 \n",
      "The test error is 0    0.435693\n",
      "dtype: float64\n",
      "alpha 0.1, threshold 0.001, iteration 1000, train error 0.06027142705767498 \n",
      "The test error is 0    0.445754\n",
      "dtype: float64\n",
      "alpha 0.1, threshold 0.01, iteration 1000, train error 0.1095682016751269 \n",
      "The test error is 0    0.501196\n",
      "dtype: float64\n",
      "alpha 0.1, threshold 0.1, iteration 1000, train error 0.3903728830788934 \n",
      "The test error is 0    0.736733\n",
      "dtype: float64\n"
     ]
    },
    {
     "data": {
      "image/png": "[encoded data removed]",
      "text/plain": [
       "<Figure size 432x288 with 1 Axes>"
      ]
     },
     "metadata": {
      "needs_background": "light"
     },
     "output_type": "display_data"
    },
    {
     "data": {
      "image/png": "[encoded data removed]",
      "text/plain": [
       "<Figure size 432x288 with 1 Axes>"
      ]
     },
     "metadata": {
      "needs_background": "light"
     },
     "output_type": "display_data"
    },
    {
     "name": "stdout",
     "output_type": "stream",
     "text": [
      "alpha 0.1, threshold 1e-06, iteration 10, train error 0.20487672713258487 \n",
      "The test error is 0    0.586252\n",
      "dtype: float64\n",
      "alpha 0.1, threshold 1e-06, iteration 50, train error 0.05689707623619787 \n",
      "The test error is 0    0.434424\n",
      "dtype: float64\n",
      "alpha 0.1, threshold 1e-06, iteration 100, train error 0.05689707623619787 \n",
      "The test error is 0    0.434424\n",
      "dtype: float64\n",
      "alpha 0.1, threshold 1e-06, iteration 500, train error 0.05689707623619787 \n",
      "The test error is 0    0.434424\n",
      "dtype: float64\n",
      "alpha 0.1, threshold 1e-06, iteration 1000, train error 0.05689707623619787 \n",
      "The test error is 0    0.434424\n",
      "dtype: float64\n",
      "alpha 0.1, threshold 1e-06, iteration 5000, train error 0.05689707623619787 \n",
      "The test error is 0    0.434424\n",
      "dtype: float64\n",
      "alpha 0.1, threshold 1e-06, iteration 10000, train error 0.05689707623619787 \n",
      "The test error is 0    0.434424\n",
      "dtype: float64\n"
     ]
    },
    {
     "data": {
      "image/png": "[encoded data removed]",
      "text/plain": [
       "<Figure size 432x288 with 1 Axes>"
      ]
     },
     "metadata": {
      "needs_background": "light"
     },
     "output_type": "display_data"
    },
    {
     "data": {
      "image/png": "[encoded data removed]",
      "text/plain": [
       "<Figure size 432x288 with 1 Axes>"
      ]
     },
     "metadata": {
      "needs_background": "light"
     },
     "output_type": "display_data"
    }
   ],
   "source": [
    "import matplotlib.pyplot as plt\n",
    "\n",
    "def grad_descent(inp,target,learn_rate, threshold, iter_val):\n",
    "    \n",
    "    \n",
    "    length=inp.shape[0]\n",
    "    #ones=np.ones([input.shape[0],1])\n",
    "    #input=np.concatenate((ones,input),axis=1)\n",
    "    \n",
    "    coeff=np.ones(inp.shape[1]).reshape(1,inp.shape[1])\n",
    "    coeff=coeff*(0.5)\n",
    "    intercept=0.5\n",
    "    #coeff=np.random.randint(-1,1,size=(1,input.shape[1]))\n",
    "    \n",
    "    target=pd.DataFrame(target)\n",
    "    \n",
    "    cost=np.array([])\n",
    "    \n",
    "    final_cost = 0\n",
    "    not_converge=True\n",
    "    for j in range(iter_val):\n",
    "        \n",
    "        predict=(inp@(coeff.T))+intercept\n",
    "        error=np.subtract(predict,target)\n",
    "        se=np.sum(((predict)**2))\n",
    "        cost_func=se/(2*length)\n",
    "        \n",
    "        coeff=coeff-((learn_rate/length)*(((inp.T)@(error)).T))\n",
    "        \n",
    "        intercept=intercept-((learn_rate/length)*np.sum(error))\n",
    "        cost=np.append(cost,cost_func)\n",
    "        \n",
    "        \n",
    "        ##print(i,cost_func)\n",
    "    \n",
    "        if j>0 and abs(cost[j]-cost[j-1])<threshold:   #checking threshold\n",
    "            not_converge=False\n",
    "            final_cost=cost[j]\n",
    "            print(\"alpha {}, threshold {}, iteration {}, train error {} \".format(learn_rate, threshold, iter_val,cost[j]))\n",
    "            break\n",
    "    if(not_converge):\n",
    "            final_cost=cost[(iter_val-1)]\n",
    "            print(\"alpha {}, threshold {}, iteration {}, train error {} \".format(learn_rate, threshold, iter_val,final_cost))\n",
    "            \n",
    "    return coeff, intercept,final_cost\n",
    "\n",
    "def linear_test(input_test,target_test, coeff,intercept):\n",
    "\n",
    "    length_test=input_test.shape[0]\n",
    "    #ones=np.ones([input_test.shape[0],1])\n",
    "    #input_test=np.concatenate((ones,input_test),axis=1)\n",
    "    target_test=pd.DataFrame(target_test)\n",
    "    model=(input_test@(coeff.T))+intercept\n",
    "    error_model=np.subtract(model,target_test)\n",
    "    mse=(np.sum(error_model**2)/(2*length_test))\n",
    "    \n",
    " \n",
    "    print(\"The test error is {}\".format(mse))\n",
    "    return mse\n",
    "\n",
    "\n",
    "\n",
    "alpha_vals = [0.001,0.005,0.01,0.05,0.1]\n",
    "threshold_vals = [0.000001,0.00001,0.0001,0.001,0.01,0.1]\n",
    "iterations = [10,50,100,500,1000,5000,10000]\n",
    "\n",
    "train_error = np.array([])\n",
    "test_error = np.array([])\n",
    "\n",
    "#cost vs alpha\n",
    "for i in range(len(alpha_vals)):\n",
    "    coeff, intercept,cost_func= grad_descent(X_train.values,y_train.values,alpha_vals[i],0.001,1000)\n",
    "    mse= linear_test(X_test.values,y_test.values, coeff,intercept)\n",
    "    \n",
    "    train_error= np.append(train_error,cost_func)\n",
    "    test_error = np.append(test_error, mse)\n",
    "plt.plot(alpha_vals,train_error)\n",
    "plt.xlabel(\"Learning rate\")\n",
    "plt.ylabel(\"Train error\")\n",
    "plt.show()\n",
    "plt.plot(alpha_vals,test_error)\n",
    "plt.xlabel(\"Learning\")\n",
    "plt.ylabel(\"Test error\")\n",
    "plt.show()\n",
    "\n",
    "#cost vs Threshold\n",
    "train_error_threshold = np.array([])\n",
    "test_error_threshold = np.array([])\n",
    "for i in range(len(threshold_vals)):\n",
    "    coeff, intercept,cost_func= grad_descent(X_train.values,y_train.values,0.1,threshold_vals[i],1000)\n",
    "    mse= linear_test(X_test.values,y_test.values, coeff,intercept)\n",
    "    \n",
    "    train_error_threshold= np.append(train_error_threshold,cost_func)\n",
    "    test_error_threshold= np.append( test_error_threshold, mse)\n",
    "\n",
    "plt.plot(threshold_vals,train_error_threshold)\n",
    "plt.xlabel(\"Threshold\")\n",
    "plt.ylabel(\"Train error\")\n",
    "plt.show()\n",
    "plt.plot(threshold_vals,test_error_threshold)\n",
    "plt.xlabel(\"Threshold\")\n",
    "plt.ylabel(\"Test error\")\n",
    "plt.show()\n",
    "\n",
    "#cost vs iter\n",
    "train_error_iter = np.array([])\n",
    "test_error_iter= np.array([])\n",
    "for i in range(len(iterations)):\n",
    "    coeff, intercept,cost_func= grad_descent(X_train.values,y_train.values,0.1,0.000001,iterations[i])\n",
    "    mse= linear_test(X_test.values,y_test.values, coeff,intercept)\n",
    "    \n",
    "    train_error_iter= np.append(train_error_iter,cost_func)\n",
    "    test_error_iter= np.append( test_error_iter, mse)\n",
    "\n",
    "plt.plot(iterations,train_error_iter)\n",
    "plt.xlabel(\"Iterations\")\n",
    "plt.ylabel(\"Train error\")\n",
    "plt.show()\n",
    "plt.plot(iterations,test_error_iter)\n",
    "plt.xlabel(\"Iterations\")\n",
    "plt.ylabel(\"Test error\")\n",
    "plt.show()\n"
   ]
  },
  {
   "cell_type": "markdown",
   "metadata": {},
   "source": [
    "Linear regression with scikit"
   ]
  },
  {
   "cell_type": "code",
   "execution_count": 9,
   "metadata": {},
   "outputs": [
    {
     "name": "stdout",
     "output_type": "stream",
     "text": [
      "-0.0006746826704466331\n",
      "[ 0.15447579  0.00266532  0.61494951 -0.36943532 -0.53783068  0.49971896\n",
      "  0.1135873  -0.07402922 -0.01367272 -0.01100793  0.01363371  0.40908894\n",
      "  0.09307012  0.04567384 -0.06953962  0.14395792 -0.23485628 -0.31103902\n",
      " -0.02434789 -0.47586447  0.00986666 -0.12851992  0.03930871  0.01810615\n",
      "  0.16602569 -0.00831475 -0.00831475]\n"
     ]
    }
   ],
   "source": [
    "from sklearn.linear_model import LinearRegression\n",
    "linreg=LinearRegression()\n",
    "linreg.fit(X_train,y_train)\n",
    "print(linreg.intercept_)\n",
    "print(linreg.coef_)"
   ]
  },
  {
   "cell_type": "code",
   "execution_count": 10,
   "metadata": {
    "scrolled": true
   },
   "outputs": [
    {
     "name": "stdout",
     "output_type": "stream",
     "text": [
      "[-0.00405747]\n",
      "[ 1.54003750e-01 -4.87721692e-02  2.42920204e-01  2.30884721e-02\n",
      " -1.04607421e-01  2.31240853e-01  8.24522139e-02 -7.28968098e-02\n",
      " -9.24428254e-03 -6.41918323e-02  1.46481134e-02  8.14663826e-02\n",
      "  9.32086493e-03 -1.94797460e-02 -8.68479268e-02  4.37934550e-02\n",
      " -1.52969480e-01 -9.55247669e-02 -4.76627345e-02 -2.23792887e-02\n",
      " -1.31236105e-02 -4.33967999e-02  3.82065772e-02  8.61781247e-03\n",
      " -3.67677212e-02  2.24606871e-04  2.24606871e-04]\n"
     ]
    }
   ],
   "source": [
    "from sklearn import linear_model\n",
    "lin_model=linear_model.SGDRegressor(alpha=0.1,max_iter=1000, tol=1e-6,fit_intercept=True,\n",
    "                                    penalty='l2',loss='squared_loss',shuffle=False)\n",
    "lin_model.fit(X_train,y_train)\n",
    "print(lin_model.intercept_)\n",
    "print(lin_model.coef_)\n",
    "#SGDRegressor(alpha=0.001, average=False, early_stopping=False,\n",
    "       #epsilon=0.1, eta0=0.01, fit_intercept=True, l1_ratio=0.15,\n",
    "       #learning_rate='invscaling', loss='squared_loss', max_iter=1000,\n",
    "       #n_iter_no_change=5, penalty='l2', power_t=0.25, random_state=None,\n",
    "       #shuffle=True, tol=0.001, validation_fraction=0.1, verbose=0,\n",
    "       #warm_start=False)"
   ]
  },
  {
   "cell_type": "markdown",
   "metadata": {},
   "source": [
    "selecting 10 random features"
   ]
  },
  {
   "cell_type": "code",
   "execution_count": 11,
   "metadata": {},
   "outputs": [
    {
     "name": "stdout",
     "output_type": "stream",
     "text": [
      "Index(['rv1', 'RH_6', 'RH_2', 'Tdewpoint', 'T1', 'Press_mm_hg', 'RH_out',\n",
      "       'Tdewpoint', 'T4', 'T3'],\n",
      "      dtype='object')\n",
      "alpha 0.1, threshold 1e-06, iteration 1000, train error 0.02225380055802354 \n",
      "The test error is 0    0.450819\n",
      "dtype: float64\n"
     ]
    }
   ],
   "source": [
    "\n",
    "df=data.drop(['Appliances'],axis=1)\n",
    "cols=np.random.randint(1,27,10)\n",
    "df_feat=df.iloc[:,cols]\n",
    "print(df_feat.columns)\n",
    "\n",
    "\n",
    "X_train_feat, X_test_feat, y_train_feat, y_test_feat = train_test_split(df_feat, y, test_size=0.2)\n",
    "\n",
    "coeff, intercept,cost_func= grad_descent(X_train_feat.values,y_train_feat.values,0.1,0.000001,1000)\n",
    "mse= linear_test(X_test_feat.values,y_test_feat.values, coeff,intercept)\n",
    "\n"
   ]
  },
  {
   "cell_type": "markdown",
   "metadata": {},
   "source": [
    "Selecting 10 best features"
   ]
  },
  {
   "cell_type": "code",
   "execution_count": 12,
   "metadata": {},
   "outputs": [
    {
     "name": "stdout",
     "output_type": "stream",
     "text": [
      "Index(['lights', 'T2', 'RH_2', 'T3', 'RH_3', 'T8', 'RH_8', 'T_out', 'RH_out',\n",
      "       'Windspeed'],\n",
      "      dtype='object')\n",
      "alpha 0.1, threshold 1e-06, iteration 1000, train error 0.04051952475707314 \n",
      "The test error is 0    0.477822\n",
      "dtype: float64\n"
     ]
    }
   ],
   "source": [
    "\n",
    "\n",
    "df_best=df.iloc[:,[0,3,4,5,6,15,16,19,21,22]]\n",
    "print(df_best.columns)\n",
    "\n",
    "\n",
    "X_train_best, X_test_best, y_train_best, y_test_best = train_test_split(df_best, y, test_size=0.2)\n",
    "\n",
    "coeff, intercept,cost_func= grad_descent(X_train_best.values,y_train_best.values,0.1,0.000001,1000)\n",
    "mse= linear_test(X_test_best.values,y_test_best.values, coeff,intercept)\n"
   ]
  },
  {
   "cell_type": "markdown",
   "metadata": {},
   "source": [
    "Best model"
   ]
  },
  {
   "cell_type": "code",
   "execution_count": 13,
   "metadata": {},
   "outputs": [
    {
     "name": "stdout",
     "output_type": "stream",
     "text": [
      "alpha 0.1, threshold 1e-06, iteration 1000, train error 0.05689707623619787 \n",
      "The test error is 0    0.434424\n",
      "dtype: float64\n"
     ]
    }
   ],
   "source": [
    "coeff, intercept,cost_func= grad_descent(X_train.values,y_train.values,0.1,0.000001,1000)\n",
    "\n",
    "\n",
    "mse= linear_test(X_test.values,y_test.values, coeff,intercept)"
   ]
  },
  {
   "cell_type": "markdown",
   "metadata": {},
   "source": [
    "Logistic Regression"
   ]
  },
  {
   "cell_type": "code",
   "execution_count": 15,
   "metadata": {},
   "outputs": [
    {
     "name": "stdout",
     "output_type": "stream",
     "text": [
      "[1. 0. 0. ... 0. 1. 1.]\n"
     ]
    }
   ],
   "source": [
    "from sklearn.linear_model import SGDClassifier\n",
    "a=np.array([])\n",
    "for i in range(len(y)):\n",
    "    \n",
    "    if y[i]>=(y.median(axis=0)):\n",
    "        a=np.append(a,1)\n",
    "    elif y[i]<(y.median(axis=0)):\n",
    "        a=np.append(a,0)\n",
    "df=df.assign(Class=a) \n",
    "y=df.Class\n",
    "X_train_logit, X_test_logit, y_train_logit, y_test_logit = train_test_split(df, y, test_size=0.2)\n",
    "\n",
    "\n",
    "\n",
    "clf = SGDClassifier(alpha=0.1,loss=\"log\", penalty=\"l2\", max_iter=1000,shuffle=False,tol=0.000001)\n",
    "clf.fit(X_train_logit, y_train_logit)\n",
    "\n",
    "y_train_predict=clf.predict(X_train_logit)\n",
    "y_test_predict=clf.predict(X_test_logit)\n",
    "print(y_test_predict)\n"
   ]
  },
  {
   "cell_type": "code",
   "execution_count": null,
   "metadata": {},
   "outputs": [],
   "source": [
    "\n",
    "alpha_vals = [0.001,0.005,0.01,0.05,0.1]\n",
    "threshold_vals = [0.000001,0.00001,0.0001,0.001,0.01,0.1]\n",
    "iterations = [100,500,1000,5000,10000]\n",
    "\n",
    "def mse_logit(target_logit,predict_logit):\n",
    "    target_logit=pd.DataFrame(target_logit)\n",
    "    predict_logit=pd.DataFrame(predict_logit)\n",
    "    \n",
    "    mse=(1/len(target_logit))*((target_logit.T.values@predict_logit)+((1-target_logit).T.values@(1-predict_logit)))\n",
    "    \n",
    "    return mse.values\n",
    "train_error_logit_alpha = np.array([])\n",
    "test_error_logit_alpha= np.array([])\n",
    "for i in alpha_vals:\n",
    "  clf = SGDClassifier(alpha=i,loss=\"log\", penalty=\"l2\", max_iter=1000,shuffle=False,tol=0.00001)\n",
    "  clf.fit(X_train_logit, y_train_logit)\n",
    "\n",
    "  y_train_predict=clf.predict(X_train_logit)\n",
    "  y_test_predict=clf.predict(X_test_logit)\n",
    "  train_error_logit=mse_logit(y_train_logit,y_train_predict)\n",
    "  test_error_logit=mse_logit(y_test_logit,y_test_predict)\n",
    "  train_error_logit_alpha = np.append( train_error_logit_alpha,train_error_logit)\n",
    "  test_error_logit_alpha= np.append( test_error_logit_alpha,test_error_logit)\n",
    "  print(\"alpha {}, Threshold {}, Train error {}, Test error {}\" .format(i, 0.000001, train_error_logit, test_error_logit))\n",
    "  \n",
    "plt.plot(train_error_logit_alpha,alpha_vals)\n",
    "plt.xlabel(\"Learning rate\")\n",
    "plt.ylabel(\"Train error\")\n",
    "plt.show()\n",
    "plt.plot(test_error_logit_alpha,alpha_vals)\n",
    "plt.xlabel(\"Learning rate\")\n",
    "plt.ylabel(\"Test error\")\n",
    "plt.show()\n",
    "  \n",
    "  \n",
    "  \n",
    "for i in threshold_vals:\n",
    "  clf = SGDClassifier(alpha=0.1,loss=\"log\", penalty=\"l2\", max_iter=1000,shuffle=False,tol=i)\n",
    "  clf.fit(X_train_logit, y_train_logit)\n",
    "\n",
    "  y_train_predict=clf.predict(X_train_logit)\n",
    "  y_test_predict=clf.predict(X_test_logit)\n",
    "  train_error_logit=mse_logit(y_train_logit,y_train_predict)\n",
    "  test_error_logit=mse_logit(y_test_logit,y_test_predict)\n",
    "  \n",
    "  print(\"alpha {}, THreshold {}, Train error {}, Test error {}\" .format(0.1 , i, train_error_logit, test_error_logit))\n",
    "\n",
    "for i in iterations:\n",
    "  clf = SGDClassifier(alpha=0.1,loss=\"log\", penalty=\"l2\", max_iter=i ,shuffle=False,tol=0.000001)\n",
    "  clf.fit(X_train_logit, y_train_logit)\n",
    "\n",
    "  y_train_predict=clf.predict(X_train_logit)\n",
    "  y_test_predict=clf.predict(X_test_logit)\n",
    "  train_error_logit=mse_logit(y_train_logit,y_train_predict)\n",
    "  test_error_logit=mse_logit(y_test_logit,y_test_predict)\n",
    "  \n",
    "  print(\"alpha {}, THreshold {}, Iter {}, Train error {}, Test error {}\" .format(0.1 , 0.01, i, train_error_logit, test_error_logit))\n",
    "  \n"
   ]
  },
  {
   "cell_type": "markdown",
   "metadata": {},
   "source": [
    "Best logit model"
   ]
  },
  {
   "cell_type": "code",
   "execution_count": null,
   "metadata": {
    "scrolled": true
   },
   "outputs": [],
   "source": [
    "clf = SGDClassifier(alpha=0.1,loss=\"log\", penalty=\"l2\", max_iter=100,shuffle=False,tol=0.01)\n",
    "clf.fit(X_train_logit, y_train_logit)\n",
    "\n",
    "print(clf.intercept_)\n",
    "print(clf.coef_)"
   ]
  },
  {
   "cell_type": "code",
   "execution_count": null,
   "metadata": {},
   "outputs": [],
   "source": [
    "from sklearn.metrics import confusion_matrix\n",
    "confusion_matrix(y_train_logit,y_train_predict)"
   ]
  },
  {
   "cell_type": "code",
   "execution_count": null,
   "metadata": {},
   "outputs": [],
   "source": [
    "tn,fp,fn,tp=confusion_matrix(y_train_logit,y_train_predict).ravel()\n",
    "print(tn,fp,fn,tp)\n",
    "accuracy=(tn+tp)/(tn+fp+fn+tp)\n",
    "print(accuracy)"
   ]
  },
  {
   "cell_type": "code",
   "execution_count": null,
   "metadata": {},
   "outputs": [],
   "source": []
  }
 ],
 "metadata": {
  "kernelspec": {
   "display_name": "Python 3",
   "language": "python",
   "name": "python3"
  },
  "language_info": {
   "codemirror_mode": {
    "name": "ipython",
    "version": 3
   },
   "file_extension": ".py",
   "mimetype": "text/x-python",
   "name": "python",
   "nbconvert_exporter": "python",
   "pygments_lexer": "ipython3",
   "version": "3.7.3"
  }
 },
 "nbformat": 4,
 "nbformat_minor": 2
}
